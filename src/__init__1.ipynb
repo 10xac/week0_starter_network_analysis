{
 "cells": [
  {
   "cell_type": "code",
   "execution_count": 76,
   "metadata": {},
   "outputs": [
    {
     "ename": "FileNotFoundError",
     "evalue": "[Errno 2] No such file or directory: 'Data/anonymized\\\\channels.json'",
     "output_type": "error",
     "traceback": [
      "\u001b[1;31m---------------------------------------------------------------------------\u001b[0m",
      "\u001b[1;31mFileNotFoundError\u001b[0m                         Traceback (most recent call last)",
      "\u001b[1;32mc:\\Users\\ezra2\\OneDrive\\Documents\\10Acadmy\\week0_starter_network_analysis\\src\\__init__.ipynb Cell 1\u001b[0m line \u001b[0;36m9\n\u001b[0;32m      <a href='vscode-notebook-cell:/c%3A/Users/ezra2/OneDrive/Documents/10Acadmy/week0_starter_network_analysis/src/__init__.ipynb#W4sZmlsZQ%3D%3D?line=2'>3</a>\u001b[0m sys\u001b[39m.\u001b[39mpath\u001b[39m.\u001b[39minsert(\u001b[39m1\u001b[39m,\u001b[39m\"\u001b[39m\u001b[39mC:/Users/ezra2/OneDrive/Documents/10Acadmy/week0_starter_network_analysis/src\u001b[39m\u001b[39m\"\u001b[39m)\n\u001b[0;32m      <a href='vscode-notebook-cell:/c%3A/Users/ezra2/OneDrive/Documents/10Acadmy/week0_starter_network_analysis/src/__init__.ipynb#W4sZmlsZQ%3D%3D?line=6'>7</a>\u001b[0m \u001b[39mfrom\u001b[39;00m \u001b[39msrc\u001b[39;00m\u001b[39m.\u001b[39;00m\u001b[39mloader\u001b[39;00m \u001b[39mimport\u001b[39;00m SlackDataLoader\n\u001b[1;32m----> <a href='vscode-notebook-cell:/c%3A/Users/ezra2/OneDrive/Documents/10Acadmy/week0_starter_network_analysis/src/__init__.ipynb#W4sZmlsZQ%3D%3D?line=8'>9</a>\u001b[0m n\u001b[39m=\u001b[39mSlackDataLoader(\u001b[39m\"\u001b[39;49m\u001b[39mData/anonymized\u001b[39;49m\u001b[39m\"\u001b[39;49m)\n",
      "File \u001b[1;32mC:\\Users/ezra2/OneDrive/Documents/10Acadmy/week0_starter_network_analysis\\src\\loader.py:38\u001b[0m, in \u001b[0;36mSlackDataLoader.__init__\u001b[1;34m(self, path)\u001b[0m\n\u001b[0;32m     33\u001b[0m \u001b[39m\u001b[39m\u001b[39m'''\u001b[39;00m\n\u001b[0;32m     34\u001b[0m \u001b[39mpath: path to the slack exported data folder\u001b[39;00m\n\u001b[0;32m     35\u001b[0m \u001b[39m'''\u001b[39;00m\n\u001b[0;32m     37\u001b[0m \u001b[39mself\u001b[39m\u001b[39m.\u001b[39mpath \u001b[39m=\u001b[39m path\n\u001b[1;32m---> 38\u001b[0m \u001b[39mself\u001b[39m\u001b[39m.\u001b[39mchannels \u001b[39m=\u001b[39m \u001b[39mself\u001b[39;49m\u001b[39m.\u001b[39;49mget_channels()\n\u001b[0;32m     39\u001b[0m \u001b[39mself\u001b[39m\u001b[39m.\u001b[39musers \u001b[39m=\u001b[39m \u001b[39mself\u001b[39m\u001b[39m.\u001b[39mget_users()\n",
      "File \u001b[1;32mC:\\Users/ezra2/OneDrive/Documents/10Acadmy/week0_starter_network_analysis\\src\\loader.py:67\u001b[0m, in \u001b[0;36mSlackDataLoader.get_channels\u001b[1;34m(self)\u001b[0m\n\u001b[0;32m     61\u001b[0m \u001b[39mdef\u001b[39;00m \u001b[39mget_channels\u001b[39m(\u001b[39mself\u001b[39m):\n\u001b[0;32m     62\u001b[0m \u001b[39m    \u001b[39m\u001b[39m'''\u001b[39;00m\n\u001b[0;32m     63\u001b[0m \u001b[39m    write a function to get all the channels from the json file\u001b[39;00m\n\u001b[0;32m     64\u001b[0m \u001b[39m    '''\u001b[39;00m\n\u001b[1;32m---> 67\u001b[0m     \u001b[39mwith\u001b[39;00m \u001b[39mopen\u001b[39;49m(os\u001b[39m.\u001b[39;49mpath\u001b[39m.\u001b[39;49mjoin(\u001b[39mself\u001b[39;49m\u001b[39m.\u001b[39;49mpath, \u001b[39m'\u001b[39;49m\u001b[39mchannels.json\u001b[39;49m\u001b[39m'\u001b[39;49m), \u001b[39m'\u001b[39;49m\u001b[39mr\u001b[39;49m\u001b[39m'\u001b[39;49m) \u001b[39mas\u001b[39;00m f:\n\u001b[0;32m     68\u001b[0m         channels \u001b[39m=\u001b[39m json\u001b[39m.\u001b[39mload(f)\n\u001b[0;32m     70\u001b[0m     \u001b[39mreturn\u001b[39;00m channels\n",
      "\u001b[1;31mFileNotFoundError\u001b[0m: [Errno 2] No such file or directory: 'Data/anonymized\\\\channels.json'"
     ]
    }
   ],
   "source": [
    "import sys\n",
    "sys.path.insert(1,\"C:/Users/ezra2/OneDrive/Documents/10Acadmy/week0_starter_network_analysis\")\n",
    "\n",
    "\n",
    "\n",
    "from src.loader import SlackDataLoader\n",
    "\n",
    "n=SlackDataLoader(\"Data/anonymized\")\n",
    "\n",
    " \n",
    "\n"
   ]
  }
 ],
 "metadata": {
  "kernelspec": {
   "display_name": "base",
   "language": "python",
   "name": "python3"
  },
  "language_info": {
   "codemirror_mode": {
    "name": "ipython",
    "version": 3
   },
   "file_extension": ".py",
   "mimetype": "text/x-python",
   "name": "python",
   "nbconvert_exporter": "python",
   "pygments_lexer": "ipython3",
   "version": "3.11.4"
  }
 },
 "nbformat": 4,
 "nbformat_minor": 2
}
