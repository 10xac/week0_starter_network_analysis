{
 "cells": [
  {
   "cell_type": "code",
   "execution_count": 4,
   "metadata": {},
   "outputs": [],
   "source": [
    "import warnings\n",
    "warnings.filterwarnings('ignore')\n",
    "import matplotlib.pyplot as plt\n",
    "import seaborn as sns\n",
    "import gensim\n",
    "from gensim.models import CoherenceModel\n",
    "from gensim import corpora\n",
    "import pandas as pd\n",
    "from pprint import pprint\n",
    "import string\n",
    "import os\n",
    "import re\n",
    "import  sys\n",
    "from nltk.tokenize import word_tokenize\n",
    "from nltk.corpus import stopwords\n",
    "from nltk.stem import PorterStemmer, WordNetLemmatizer\n",
    "import pyLDAvis.gensim_models as gensimvis\n",
    "import pyLDAvis\n"
   ]
  },
  {
   "cell_type": "code",
   "execution_count": 5,
   "metadata": {},
   "outputs": [
    {
     "name": "stdout",
     "output_type": "stream",
     "text": [
      "Defaulting to user installation because normal site-packages is not writeable\n",
      "Requirement already satisfied: pyLDAvis in c:\\users\\moyka\\appdata\\roaming\\python\\python311\\site-packages (3.4.1)\n",
      "Requirement already satisfied: numpy>=1.24.2 in c:\\programdata\\anaconda3\\lib\\site-packages (from pyLDAvis) (1.24.3)\n",
      "Requirement already satisfied: scipy in c:\\programdata\\anaconda3\\lib\\site-packages (from pyLDAvis) (1.11.1)\n",
      "Requirement already satisfied: pandas>=2.0.0 in c:\\programdata\\anaconda3\\lib\\site-packages (from pyLDAvis) (2.0.3)\n",
      "Requirement already satisfied: joblib>=1.2.0 in c:\\programdata\\anaconda3\\lib\\site-packages (from pyLDAvis) (1.2.0)\n",
      "Requirement already satisfied: jinja2 in c:\\programdata\\anaconda3\\lib\\site-packages (from pyLDAvis) (3.1.2)\n",
      "Requirement already satisfied: numexpr in c:\\programdata\\anaconda3\\lib\\site-packages (from pyLDAvis) (2.8.4)\n",
      "Requirement already satisfied: funcy in c:\\users\\moyka\\appdata\\roaming\\python\\python311\\site-packages (from pyLDAvis) (2.0)\n",
      "Requirement already satisfied: scikit-learn>=1.0.0 in c:\\programdata\\anaconda3\\lib\\site-packages (from pyLDAvis) (1.3.0)\n",
      "Requirement already satisfied: gensim in c:\\programdata\\anaconda3\\lib\\site-packages (from pyLDAvis) (4.3.0)\n",
      "Requirement already satisfied: setuptools in c:\\programdata\\anaconda3\\lib\\site-packages (from pyLDAvis) (68.0.0)\n",
      "Requirement already satisfied: python-dateutil>=2.8.2 in c:\\programdata\\anaconda3\\lib\\site-packages (from pandas>=2.0.0->pyLDAvis) (2.8.2)\n",
      "Requirement already satisfied: pytz>=2020.1 in c:\\programdata\\anaconda3\\lib\\site-packages (from pandas>=2.0.0->pyLDAvis) (2023.3.post1)\n",
      "Requirement already satisfied: tzdata>=2022.1 in c:\\programdata\\anaconda3\\lib\\site-packages (from pandas>=2.0.0->pyLDAvis) (2023.3)\n",
      "Requirement already satisfied: threadpoolctl>=2.0.0 in c:\\programdata\\anaconda3\\lib\\site-packages (from scikit-learn>=1.0.0->pyLDAvis) (2.2.0)\n",
      "Requirement already satisfied: smart-open>=1.8.1 in c:\\programdata\\anaconda3\\lib\\site-packages (from gensim->pyLDAvis) (5.2.1)\n",
      "Requirement already satisfied: FuzzyTM>=0.4.0 in c:\\users\\moyka\\appdata\\roaming\\python\\python311\\site-packages (from gensim->pyLDAvis) (2.0.5)\n",
      "Requirement already satisfied: MarkupSafe>=2.0 in c:\\programdata\\anaconda3\\lib\\site-packages (from jinja2->pyLDAvis) (2.1.1)\n",
      "Requirement already satisfied: pyfume in c:\\users\\moyka\\appdata\\roaming\\python\\python311\\site-packages (from FuzzyTM>=0.4.0->gensim->pyLDAvis) (0.2.25)\n",
      "Requirement already satisfied: six>=1.5 in c:\\programdata\\anaconda3\\lib\\site-packages (from python-dateutil>=2.8.2->pandas>=2.0.0->pyLDAvis) (1.16.0)\n",
      "Requirement already satisfied: simpful in c:\\users\\moyka\\appdata\\roaming\\python\\python311\\site-packages (from pyfume->FuzzyTM>=0.4.0->gensim->pyLDAvis) (2.11.1)\n",
      "Requirement already satisfied: fst-pso in c:\\users\\moyka\\appdata\\roaming\\python\\python311\\site-packages (from pyfume->FuzzyTM>=0.4.0->gensim->pyLDAvis) (1.8.1)\n",
      "Requirement already satisfied: miniful in c:\\users\\moyka\\appdata\\roaming\\python\\python311\\site-packages (from fst-pso->pyfume->FuzzyTM>=0.4.0->gensim->pyLDAvis) (0.0.6)\n"
     ]
    }
   ],
   "source": [
    "!pip install pyLDAvis"
   ]
  },
  {
   "cell_type": "code",
   "execution_count": 6,
   "metadata": {},
   "outputs": [],
   "source": [
    "# Add parent directory to path to import modules from src\n",
    "rpath = os.path.abspath('C:/Users/moyka/OneDrive/Documents/GitHub/week0_starter_network_analysis')\n",
    "if rpath not in sys.path:\n",
    "    sys.path.insert(0, rpath)\n",
    "\n",
    "from src.loader import SlackDataLoader\n",
    "import src.utils as utils"
   ]
  },
  {
   "cell_type": "code",
   "execution_count": 18,
   "metadata": {},
   "outputs": [
    {
     "ename": "FileNotFoundError",
     "evalue": "[Errno 2] No such file or directory: 'C:/Users/moyka/OneDrive/Documents/GitHub/anonymized/channels.json'",
     "output_type": "error",
     "traceback": [
      "\u001b[1;31m---------------------------------------------------------------------------\u001b[0m",
      "\u001b[1;31mFileNotFoundError\u001b[0m                         Traceback (most recent call last)",
      "\u001b[1;32mc:\\Users\\moyka\\Desktop\\Task-2\\notebooks\\Topic_Modelling.ipynb Cell 4\u001b[0m line \u001b[0;36m1\n\u001b[1;32m----> <a href='vscode-notebook-cell:/c%3A/Users/moyka/Desktop/Task-2/notebooks/Topic_Modelling.ipynb#W3sZmlsZQ%3D%3D?line=0'>1</a>\u001b[0m data_loader \u001b[39m=\u001b[39m SlackDataLoader(\u001b[39mr\u001b[39m\u001b[39m\"\u001b[39m\u001b[39mC:/Users/moyka/OneDrive/Documents/GitHub/anonymized/\u001b[39m\u001b[39m\"\u001b[39m)\n\u001b[0;32m      <a href='vscode-notebook-cell:/c%3A/Users/moyka/Desktop/Task-2/notebooks/Topic_Modelling.ipynb#W3sZmlsZQ%3D%3D?line=2'>3</a>\u001b[0m \u001b[39mdef\u001b[39;00m \u001b[39mget_channel_messages\u001b[39m(channel):\n\u001b[0;32m      <a href='vscode-notebook-cell:/c%3A/Users/moyka/Desktop/Task-2/notebooks/Topic_Modelling.ipynb#W3sZmlsZQ%3D%3D?line=3'>4</a>\u001b[0m     channel_messages \u001b[39m=\u001b[39m utils\u001b[39m.\u001b[39mget_messages_on_channel(\u001b[39mf\u001b[39m\u001b[39m\"\u001b[39m\u001b[39mC:/Users/moyka/OneDrive/Documents/GitHub//\u001b[39m\u001b[39m{\u001b[39;00mchannel\u001b[39m}\u001b[39;00m\u001b[39m\"\u001b[39m) \n",
      "File \u001b[1;32m~\\OneDrive\\Documents\\GitHub\\week0_starter_network_analysis\\src\\loader.py:36\u001b[0m, in \u001b[0;36mSlackDataLoader.__init__\u001b[1;34m(self, path)\u001b[0m\n\u001b[0;32m     32\u001b[0m \u001b[39m\u001b[39m\u001b[39m'''\u001b[39;00m\n\u001b[0;32m     33\u001b[0m \u001b[39mpath: path to the slack exported data folder\u001b[39;00m\n\u001b[0;32m     34\u001b[0m \u001b[39m'''\u001b[39;00m\n\u001b[0;32m     35\u001b[0m \u001b[39mself\u001b[39m\u001b[39m.\u001b[39mpath \u001b[39m=\u001b[39m path\n\u001b[1;32m---> 36\u001b[0m \u001b[39mself\u001b[39m\u001b[39m.\u001b[39mchannels \u001b[39m=\u001b[39m \u001b[39mself\u001b[39m\u001b[39m.\u001b[39mget_channels()\n\u001b[0;32m     37\u001b[0m \u001b[39mself\u001b[39m\u001b[39m.\u001b[39musers \u001b[39m=\u001b[39m \u001b[39mself\u001b[39m\u001b[39m.\u001b[39mget_ussers()\n",
      "File \u001b[1;32m~\\OneDrive\\Documents\\GitHub\\week0_starter_network_analysis\\src\\loader.py:53\u001b[0m, in \u001b[0;36mSlackDataLoader.get_channels\u001b[1;34m(self)\u001b[0m\n\u001b[0;32m     49\u001b[0m \u001b[39mdef\u001b[39;00m \u001b[39mget_channels\u001b[39m(\u001b[39mself\u001b[39m):\n\u001b[0;32m     50\u001b[0m \u001b[39m    \u001b[39m\u001b[39m'''\u001b[39;00m\n\u001b[0;32m     51\u001b[0m \u001b[39m    write a function to get all the channels from the json file\u001b[39;00m\n\u001b[0;32m     52\u001b[0m \u001b[39m    '''\u001b[39;00m\n\u001b[1;32m---> 53\u001b[0m     \u001b[39mwith\u001b[39;00m \u001b[39mopen\u001b[39m(os\u001b[39m.\u001b[39mpath\u001b[39m.\u001b[39mjoin(\u001b[39mself\u001b[39m\u001b[39m.\u001b[39mpath, \u001b[39m'\u001b[39m\u001b[39mchannels.json\u001b[39m\u001b[39m'\u001b[39m), \u001b[39m'\u001b[39m\u001b[39mr\u001b[39m\u001b[39m'\u001b[39m) \u001b[39mas\u001b[39;00m f:\n\u001b[0;32m     54\u001b[0m         channels \u001b[39m=\u001b[39m json\u001b[39m.\u001b[39mload(f)\n\u001b[0;32m     56\u001b[0m     \u001b[39mreturn\u001b[39;00m channels\n",
      "\u001b[1;31mFileNotFoundError\u001b[0m: [Errno 2] No such file or directory: 'C:/Users/moyka/OneDrive/Documents/GitHub/anonymized/channels.json'"
     ]
    }
   ],
   "source": [
    "data_loader = SlackDataLoader(r\"C:/Users/moyka/OneDrive/Documents/GitHub/anonymized/\")\n",
    "\n",
    "def get_channel_messages(channel):\n",
    "    channel_messages = utils.get_messages_on_channel(f\"C:/Users/moyka/OneDrive/Documents/GitHub//{channel}\") \n",
    "    # Create an empty DataFrame\n",
    "    df = pd.DataFrame(channel_messages)\n",
    "    return df\n",
    "\n",
    "def get_all_channels_message():\n",
    "    dfs = []  # List to store individual DataFrames\n",
    "\n",
    "    for channel in data_loader.channels:\n",
    "        dfs.append(get_channel_messages(channel[\"name\"]))\n",
    "\n",
    "    # Concatenate all DataFrames into a single DataFrame\n",
    "    result_df = pd.concat(dfs, ignore_index=True)\n",
    "\n",
    "    return result_df"
   ]
  },
  {
   "cell_type": "code",
   "execution_count": 17,
   "metadata": {},
   "outputs": [],
   "source": [
    "def preprocess_text(text):\n",
    "    # Extract and remove URLs\n",
    "    urls = re.findall(r'http[s]?://(?:[a-zA-Z]|[0-9]|[$-_@.&+]|[!*\\\\(\\\\),]|(?:%[0-9a-fA-F][0-9a-fA-F]))+', text)\n",
    "    for url in urls:\n",
    "        text = text.replace(url, '')\n",
    "\n",
    "    text = re.sub(r'<@.*?>', '', text)\n",
    "\n",
    "    # Convert to lowercase\n",
    "    text = text.lower()\n",
    "\n",
    "    # Remove punctuation\n",
    "    text = ''.join([char for char in text if char not in string.punctuation])\n",
    "\n",
    "    # Remove numbers\n",
    "    text = re.sub(r'\\d+', '', text)\n",
    "\n",
    "    # Tokenize\n",
    "    tokens = word_tokenize(text)\n",
    "\n",
    "    # Remove stop words\n",
    "    stop_words = set(stopwords.words('english'))\n",
    "    tokens = [word for word in tokens if word not in stop_words]\n",
    "\n",
    "    # Perform stemming\n",
    "    stemmer = PorterStemmer()\n",
    "    tokens = [stemmer.stem(word) for word in tokens]\n",
    "\n",
    "    # Perform lemmatization\n",
    "    lemmatizer = WordNetLemmatizer()\n",
    "    tokens = [lemmatizer.lemmatize(word) for word in tokens]\n",
    "\n",
    "    # Join the tokens back into a string\n",
    "    text = ' '.join(tokens)\n",
    "\n",
    "    return text\n"
   ]
  },
  {
   "cell_type": "code",
   "execution_count": 15,
   "metadata": {},
   "outputs": [],
   "source": [
    "\n",
    "def prepare_data(df):\n",
    "    df['cleaned_text'] = df['text'].apply(preprocess_text)\n",
    "    sentence_list = [tweet for tweet in df['cleaned_text']]\n",
    "    word_list = [sent.split() for sent in sentence_list]\n",
    "\n",
    "    #Create dictionary which contains Id and word\n",
    "    word_to_id = corpora.Dictionary(word_list) #generate unique tokens\n",
    "    corpus = [word_to_id.doc2bow(tweet) for tweet in word_list]\n",
    "    \n",
    "    return df, word_list, word_to_id, corpus"
   ]
  },
  {
   "cell_type": "code",
   "execution_count": 14,
   "metadata": {},
   "outputs": [],
   "source": [
    "def build_model(corpus, word_to_id):\n",
    "    # Build LDA model\n",
    "    lda_model = gensim.models.ldamodel.LdaModel(corpus,\n",
    "                                        id2word=word_to_id,\n",
    "                                        num_topics=5,\n",
    "                                        random_state=100,\n",
    "                                        update_every=1,\n",
    "                                        chunksize=100,\n",
    "                                        passes=10,\n",
    "                                        alpha='auto',\n",
    "                                        per_word_topics=True)    \n",
    "    return lda_model"
   ]
  },
  {
   "cell_type": "code",
   "execution_count": 11,
   "metadata": {},
   "outputs": [],
   "source": [
    "\n",
    "def show_topics(lda_model):\n",
    "    pprint(lda_model.show_topics(formatted=False))"
   ]
  },
  {
   "cell_type": "code",
   "execution_count": 10,
   "metadata": {},
   "outputs": [],
   "source": [
    "def model_analysis(lda_model, corpus, word_list, word_to_id):\n",
    "    print('\\nPerplexity: ', lda_model.log_perplexity(corpus))\n",
    "    doc_lda = lda_model[corpus]\n",
    "\n",
    "\n",
    "    # Compute Coherence Score\n",
    "    coherence_model_lda = CoherenceModel(model=lda_model, texts=word_list, dictionary=word_to_id, coherence='c_v')\n",
    "    coherence_lda = coherence_model_lda.get_coherence()\n",
    "    print('\\n Lda model Coherence Score/Accuracy on Tweets: ', coherence_lda)"
   ]
  },
  {
   "cell_type": "code",
   "execution_count": 13,
   "metadata": {},
   "outputs": [],
   "source": [
    "def get_top_topics(df):\n",
    "    df, word_list, word_to_id, corpus = prepare_data(df)\n",
    "    lda_model = build_model(corpus, word_to_id)\n",
    "\n",
    "    # Show the top 10 topics\n",
    "    show_topics(lda_model)\n",
    "    \n",
    "\n",
    "    # Visualize the top 10 topics\n",
    "    pyLDAvis.enable_notebook()\n",
    "    LDAvis_prepared = gensimvis.prepare(lda_model, corpus, word_to_id)\n",
    "    return LDAvis_prepared"
   ]
  },
  {
   "cell_type": "markdown",
   "metadata": {},
   "source": [
    "### Top 10 topics of the different channels"
   ]
  },
  {
   "cell_type": "code",
   "execution_count": 8,
   "metadata": {},
   "outputs": [
    {
     "ename": "NameError",
     "evalue": "name 'get_channel_messages' is not defined",
     "output_type": "error",
     "traceback": [
      "\u001b[1;31m---------------------------------------------------------------------------\u001b[0m",
      "\u001b[1;31mNameError\u001b[0m                                 Traceback (most recent call last)",
      "\u001b[1;32mc:\\Users\\moyka\\Desktop\\Task-2\\notebooks\\Topic_Modelling.ipynb Cell 12\u001b[0m line \u001b[0;36m1\n\u001b[1;32m----> <a href='vscode-notebook-cell:/c%3A/Users/moyka/Desktop/Task-2/notebooks/Topic_Modelling.ipynb#X14sZmlsZQ%3D%3D?line=0'>1</a>\u001b[0m df \u001b[39m=\u001b[39m get_channel_messages(\u001b[39m\"\u001b[39m\u001b[39mall-week1\u001b[39m\u001b[39m\"\u001b[39m)\n\u001b[0;32m      <a href='vscode-notebook-cell:/c%3A/Users/moyka/Desktop/Task-2/notebooks/Topic_Modelling.ipynb#X14sZmlsZQ%3D%3D?line=1'>2</a>\u001b[0m get_top_topics(df)\n",
      "\u001b[1;31mNameError\u001b[0m: name 'get_channel_messages' is not defined"
     ]
    }
   ],
   "source": [
    "df = get_channel_messages(\"all-week1\")\n",
    "get_top_topics(df)"
   ]
  },
  {
   "cell_type": "code",
   "execution_count": 39,
   "metadata": {},
   "outputs": [
    {
     "name": "stderr",
     "output_type": "stream",
     "text": [
      "[nltk_data] Downloading package wordnet to\n",
      "[nltk_data]     C:\\Users\\Eshetu\\AppData\\Roaming\\nltk_data...\n"
     ]
    },
    {
     "data": {
      "text/plain": [
       "True"
      ]
     },
     "execution_count": 39,
     "metadata": {},
     "output_type": "execute_result"
    }
   ],
   "source": [
    "import nltk\n",
    "nltk.download('wordnet')"
   ]
  },
  {
   "cell_type": "code",
   "execution_count": 9,
   "metadata": {},
   "outputs": [
    {
     "ename": "NameError",
     "evalue": "name 'get_channel_messages' is not defined",
     "output_type": "error",
     "traceback": [
      "\u001b[1;31m---------------------------------------------------------------------------\u001b[0m",
      "\u001b[1;31mNameError\u001b[0m                                 Traceback (most recent call last)",
      "\u001b[1;32mc:\\Users\\moyka\\Desktop\\Task-2\\notebooks\\Topic_Modelling.ipynb Cell 14\u001b[0m line \u001b[0;36m1\n\u001b[1;32m----> <a href='vscode-notebook-cell:/c%3A/Users/moyka/Desktop/Task-2/notebooks/Topic_Modelling.ipynb#X16sZmlsZQ%3D%3D?line=0'>1</a>\u001b[0m df \u001b[39m=\u001b[39m get_channel_messages(\u001b[39m\"\u001b[39m\u001b[39mall-community-building\u001b[39m\u001b[39m\"\u001b[39m)\n\u001b[0;32m      <a href='vscode-notebook-cell:/c%3A/Users/moyka/Desktop/Task-2/notebooks/Topic_Modelling.ipynb#X16sZmlsZQ%3D%3D?line=1'>2</a>\u001b[0m get_top_topics(df)\n",
      "\u001b[1;31mNameError\u001b[0m: name 'get_channel_messages' is not defined"
     ]
    }
   ],
   "source": [
    "df = get_channel_messages(\"all-community-building\")\n",
    "get_top_topics(df)"
   ]
  },
  {
   "cell_type": "markdown",
   "metadata": {},
   "source": [
    "### Top 10 topics of all channels"
   ]
  },
  {
   "cell_type": "code",
   "execution_count": 20,
   "metadata": {},
   "outputs": [
    {
     "name": "stdout",
     "output_type": "stream",
     "text": [
      "[(0,\n",
      "  [('work', 0.07804269),\n",
      "   ('instal', 0.039492182),\n",
      "   ('get', 0.03234122),\n",
      "   ('guy', 0.026092794),\n",
      "   ('face', 0.02030699),\n",
      "   ('return', 0.019842522),\n",
      "   ('ok', 0.015252527),\n",
      "   ('okay', 0.014948669),\n",
      "   ('pip', 0.01389798),\n",
      "   ('read', 0.013267612)]),\n",
      " (1,\n",
      "  [('file', 0.0549693),\n",
      "   ('line', 0.034151033),\n",
      "   ('meet', 0.02210031),\n",
      "   ('extract', 0.020621968),\n",
      "   ('one', 0.020602355),\n",
      "   ('good', 0.017431682),\n",
      "   ('task', 0.017173653),\n",
      "   ('imag', 0.015683454),\n",
      "   ('logo', 0.01498308),\n",
      "   ('need', 0.014000982)]),\n",
      " (2,\n",
      "  [('channel', 0.18221219),\n",
      "   ('join', 0.18198967),\n",
      "   ('connect', 0.018376695),\n",
      "   ('plea', 0.018241962),\n",
      "   ('time', 0.01755661),\n",
      "   ('start', 0.016417718),\n",
      "   ('•', 0.014001578),\n",
      "   ('today', 0.012244016),\n",
      "   ('code', 0.012109588),\n",
      "   ('link', 0.011688723)]),\n",
      " (3,\n",
      "  [('thank', 0.041847672),\n",
      "   ('think', 0.03968491),\n",
      "   ('data', 0.03801513),\n",
      "   ('sure', 0.021638291),\n",
      "   ('creat', 0.019395646),\n",
      "   ('right', 0.019231077),\n",
      "   ('present', 0.01881592),\n",
      "   ('dont', 0.018710904),\n",
      "   ('model', 0.016673988),\n",
      "   ('project', 0.016466739)]),\n",
      " (4,\n",
      "  [('use', 0.065344),\n",
      "   ('tri', 0.05039213),\n",
      "   ('error', 0.028861312),\n",
      "   ('ye', 0.028690428),\n",
      "   ('instanc', 0.02610646),\n",
      "   ('let', 0.021604491),\n",
      "   ('u', 0.019047005),\n",
      "   ('group', 0.017978994),\n",
      "   ('im', 0.01785427),\n",
      "   ('make', 0.017489491)])]\n"
     ]
    },
    {
     "data": {
      "text/html": [
       "\n",
       "<link rel=\"stylesheet\" type=\"text/css\" href=\"https://cdn.jsdelivr.net/gh/bmabey/pyLDAvis@3.4.0/pyLDAvis/js/ldavis.v1.0.0.css\">\n",
       "\n",
       "\n",
       "<div id=\"ldavis_el891615623843617125485175924\" style=\"background-color:white;\"></div>\n",
       "<script type=\"text/javascript\">\n",
       "\n",
       "var ldavis_el891615623843617125485175924_data = {\"mdsDat\": {\"x\": [0.3719243742933465, -0.09064417729637654, -0.11915019297023675, -0.0701612900705174, -0.09196871395621564], \"y\": [-0.0201097927548741, 0.2678516945006074, -0.26353610315512455, 0.083031972437184, -0.06723777102779266], \"topics\": [1, 2, 3, 4, 5], \"cluster\": [1, 1, 1, 1, 1], \"Freq\": [25.993380227008405, 20.377566414805703, 19.55844958583649, 18.391670047327537, 15.678933725021865]}, \"tinfo\": {\"Term\": [\"channel\", \"join\", \"work\", \"use\", \"file\", \"tri\", \"thank\", \"think\", \"data\", \"instal\", \"line\", \"get\", \"error\", \"ye\", \"instanc\", \"guy\", \"meet\", \"let\", \"sure\", \"extract\", \"one\", \"connect\", \"plea\", \"u\", \"time\", \"creat\", \"right\", \"face\", \"present\", \"dont\", \"channel\", \"join\", \"plea\", \"connect\", \"time\", \"start\", \"\\u2022\", \"today\", \"code\", \"link\", \"week\", \"problem\", \"like\", \"everyon\", \"want\", \"send\", \"hello\", \"great\", \"issu\", \"call\", \"last\", \"question\", \"session\", \"would\", \"import\", \"ask\", \"follow\", \"share\", \"standup\", \"submit\", \"use\", \"tri\", \"ye\", \"error\", \"instanc\", \"let\", \"u\", \"group\", \"im\", \"make\", \"also\", \"run\", \"go\", \"access\", \"mean\", \"part\", \"first\", \"look\", \"help\", \"anyon\", \"submiss\", \"might\", \"know\", \"tomorrow\", \"result\", \"provid\", \"order\", \"yesterday\", \"hi\", \"locat\", \"creativ\", \"file\", \"line\", \"meet\", \"one\", \"extract\", \"good\", \"task\", \"imag\", \"need\", \"featur\", \"key\", \"open\", \"find\", \"take\", \"permiss\", \"say\", \"updat\", \"chang\", \"morn\", \"set\", \"object\", \"posit\", \"request\", \"asset\", \"name\", \"fail\", \"ad\", \"except\", \"train\", \"done\", \"logo\", \"ssh\", \"refresh\", \"g\", \"thank\", \"think\", \"data\", \"sure\", \"creat\", \"right\", \"dont\", \"present\", \"model\", \"project\", \"still\", \"could\", \"challeng\", \"check\", \"yeah\", \"abl\", \"way\", \"video\", \"text\", \"folder\", \"repo\", \"talk\", \"understand\", \"download\", \"deploy\", \"detect\", \"tutori\", \"much\", \"point\", \"that\", \"airflow\", \"work\", \"instal\", \"get\", \"guy\", \"face\", \"return\", \"ok\", \"okay\", \"pip\", \"read\", \"see\", \"end\", \"didnt\", \"\\u2019\", \"local\", \"environ\", \"document\", \"cant\", \"solv\", \"command\", \"well\", \"your\", \"alreadi\", \"python\", \"better\", \"realli\", \"git\", \"path\", \"fix\", \"frame\", \"recent\", \"conda\", \"sudo\"], \"Freq\": [4785.0, 4780.0, 1237.0, 1346.0, 1087.0, 1038.0, 778.0, 738.0, 707.0, 626.0, 675.0, 513.0, 594.0, 591.0, 538.0, 414.0, 437.0, 445.0, 402.0, 408.0, 407.0, 483.0, 479.0, 392.0, 461.0, 361.0, 358.0, 322.0, 350.0, 348.0, 4785.142070057273, 4779.298414772808, 479.0589606674243, 482.59722291669163, 461.06065500799826, 431.1517879030748, 367.7006505686486, 321.5446568974472, 318.0143923515801, 306.9619086617253, 306.6253936736999, 292.98202094928564, 282.00589453776615, 275.1778858320454, 247.88607761684437, 246.0191886313823, 232.59407739058895, 221.58490847970015, 217.33118195652415, 230.1845919221452, 217.08631037718618, 192.07986425196904, 189.35582690758983, 189.17037557415694, 185.67734804182783, 176.92027860127652, 173.92422151005385, 168.75978402720662, 161.04527759229248, 161.88826488005134, 1345.2799643743074, 1037.4559647124765, 590.6687423865535, 594.1868573913142, 537.4708998573215, 444.78590447079023, 392.1332483974478, 370.1454035058515, 367.5776163304399, 360.06767961137325, 344.9300409902873, 337.23852884260435, 330.04269652391696, 309.9133825585301, 220.56345036926226, 213.5071646154607, 200.34173809442427, 193.48693012350552, 189.87160419761653, 183.99605724736497, 185.04662545061126, 180.47033026317862, 172.45792620701397, 162.2136015839986, 161.9620994829258, 146.4406311133969, 139.14591017030733, 131.9898250388978, 125.48628978603229, 123.15818409376936, 140.9279953484816, 1086.198702903512, 674.8277230640089, 436.7042890562564, 407.104533034254, 407.49210073234207, 344.4517302300011, 339.3530618462651, 309.9065662131362, 276.6607661512194, 276.1014430245342, 183.16903966348454, 174.54262188196654, 171.0717930392741, 170.67980861528193, 150.98623510854588, 146.0855280604382, 140.8809502701259, 140.9546819881881, 139.9790088329396, 131.72414811810714, 135.76193734269398, 137.79249947258415, 117.71410031842557, 122.47391381019125, 111.91614460440474, 108.8183450703659, 106.53061907470732, 107.04309730227173, 104.78781583898397, 104.08877694953125, 296.0671236530143, 128.7330125146532, 115.2561831512609, 119.11092669165816, 777.5836583386103, 737.3967546372123, 706.3701020621727, 402.06731968775557, 360.3960820659134, 357.33818875234317, 347.67269579114816, 349.62402711380173, 309.82417091473144, 305.9732161267504, 231.70591977829477, 225.56491951389725, 221.56180033854392, 214.4827212488679, 207.28662457845596, 172.41787746408005, 165.08757917600954, 167.2377642431524, 160.05803826652573, 155.85400603108013, 155.00508345779087, 150.23761209025696, 147.8848180560546, 142.85783831219473, 142.74239550221404, 265.0444396530736, 129.46267386893223, 127.1922784166101, 129.51864745143598, 125.09017577302161, 126.19758571742184, 1236.2418044580288, 625.5792147108765, 512.303788784309, 413.32507965998036, 321.6745642649127, 314.3171306980491, 241.608925637714, 236.79563824344962, 220.1521072906969, 210.16671750208138, 191.429690890982, 180.3785518045593, 166.09977427705545, 158.0794579538849, 156.52685503310835, 156.08231213377385, 156.96540833906914, 150.70070674558045, 138.22671467365635, 132.60722211021428, 130.74686325995782, 126.72727075117432, 105.51454308682867, 105.24662680489975, 103.93355598464565, 101.7908305896289, 101.08271607646537, 103.97099831957782, 93.57370596497589, 184.7162123752567, 98.995630463244, 125.73937141453226, 123.88395471644375], \"Total\": [4785.0, 4780.0, 1237.0, 1346.0, 1087.0, 1038.0, 778.0, 738.0, 707.0, 626.0, 675.0, 513.0, 594.0, 591.0, 538.0, 414.0, 437.0, 445.0, 402.0, 408.0, 407.0, 483.0, 479.0, 392.0, 461.0, 361.0, 358.0, 322.0, 350.0, 348.0, 4785.915121462838, 4780.0710407912975, 479.826394807211, 483.37559682653955, 461.8277447028713, 431.9217196407469, 368.47126622021403, 322.3140834910293, 318.79561590078606, 307.7275942402069, 307.39349345012687, 293.75428045896854, 282.77866644986705, 275.9531017730381, 248.65899236945486, 246.79146548337184, 233.36799682887644, 222.35739559103754, 218.10086215766987, 231.00332921741852, 217.91853287857734, 192.84798323736518, 190.11914809515181, 189.94049522872822, 186.46107469824398, 177.68792666130614, 174.70743752219045, 169.53215025933375, 161.8131659700431, 162.66542286759272, 1346.0503836032365, 1038.225192037865, 591.4371061215954, 594.9713207975977, 538.2593964390715, 445.5548545660626, 392.9052130354739, 370.9166348767211, 368.3482937179313, 360.84221686162283, 345.6999584071928, 338.006710040027, 330.81413778206434, 310.69991790803914, 221.33225213356965, 214.28368583151342, 201.11424794365604, 194.25917233534665, 190.6379247656232, 184.76385208920158, 185.82946141010666, 181.24340470508736, 173.2221724866926, 162.99525614522778, 162.75192918613425, 147.21325812871422, 139.9268026677326, 132.7747824334774, 126.26195034392515, 123.93405465916804, 142.78740313555767, 1087.0097753986565, 675.6684133140593, 437.5302913169179, 407.9158568189211, 408.3674214795036, 345.2670453203097, 340.16651661675667, 310.73465647651085, 277.4740637375677, 276.93717934816823, 183.98543538794405, 175.35670152789683, 171.8815048175096, 171.49150189092975, 151.81231950619272, 146.90149693342977, 141.6954788884323, 141.77105610336065, 140.79973774630224, 132.53562382782073, 136.60497219654306, 138.69118149940533, 118.52808587668812, 123.33683691017787, 112.72813286348392, 109.62810766886972, 107.34903198649545, 107.87668415703229, 105.60432377791676, 104.90174454955097, 308.3374897695154, 131.14928288013027, 117.22236096698563, 126.35735791000845, 778.3434986509405, 738.1581152441969, 707.1419575374865, 402.829502737676, 361.1530865165231, 358.0978024388088, 348.4327511073874, 350.42800979860294, 310.6014187731727, 306.74862819143004, 232.46618315967774, 226.3276204127915, 222.32394520887385, 215.2457075062743, 208.0454494913874, 173.18163803301806, 165.84900330143904, 168.02437268329786, 160.82694837870434, 156.6146023572251, 155.7648099234627, 151.0049987820417, 148.65013033752845, 143.62652072098857, 143.51360236132354, 266.4811202810284, 130.2218358064476, 127.95327340283966, 130.2941406216063, 125.84908457494475, 127.08823890940276, 1237.022088963131, 626.3561346532447, 513.0847895024838, 414.10847216433274, 322.469823681786, 315.1365917571357, 242.39080506997178, 237.57809912471905, 220.93311598159266, 210.96374101353868, 192.207258907767, 181.16373981307802, 166.88300869776572, 158.86610259130126, 157.30909395857094, 156.86283234782414, 157.76077796409322, 151.48684498970653, 139.0085699104602, 133.39280302365256, 131.53058606963188, 127.51396009783187, 106.29307973595293, 106.03090831804204, 104.71717834756642, 102.57288523837633, 101.86231589500937, 104.77691389380549, 94.35306682534312, 186.2618479729633, 100.06215565040665, 131.18274613970317, 154.39977667796023], \"Category\": [\"Default\", \"Default\", \"Default\", \"Default\", \"Default\", \"Default\", \"Default\", \"Default\", \"Default\", \"Default\", \"Default\", \"Default\", \"Default\", \"Default\", \"Default\", \"Default\", \"Default\", \"Default\", \"Default\", \"Default\", \"Default\", \"Default\", \"Default\", \"Default\", \"Default\", \"Default\", \"Default\", \"Default\", \"Default\", \"Default\", \"Topic1\", \"Topic1\", \"Topic1\", \"Topic1\", \"Topic1\", \"Topic1\", \"Topic1\", \"Topic1\", \"Topic1\", \"Topic1\", \"Topic1\", \"Topic1\", \"Topic1\", \"Topic1\", \"Topic1\", \"Topic1\", \"Topic1\", \"Topic1\", \"Topic1\", \"Topic1\", \"Topic1\", \"Topic1\", \"Topic1\", \"Topic1\", \"Topic1\", \"Topic1\", \"Topic1\", \"Topic1\", \"Topic1\", \"Topic1\", \"Topic2\", \"Topic2\", \"Topic2\", \"Topic2\", \"Topic2\", \"Topic2\", \"Topic2\", \"Topic2\", \"Topic2\", \"Topic2\", \"Topic2\", \"Topic2\", \"Topic2\", \"Topic2\", \"Topic2\", \"Topic2\", \"Topic2\", \"Topic2\", \"Topic2\", \"Topic2\", \"Topic2\", \"Topic2\", \"Topic2\", \"Topic2\", \"Topic2\", \"Topic2\", \"Topic2\", \"Topic2\", \"Topic2\", \"Topic2\", \"Topic2\", \"Topic3\", \"Topic3\", \"Topic3\", \"Topic3\", \"Topic3\", \"Topic3\", \"Topic3\", \"Topic3\", \"Topic3\", \"Topic3\", \"Topic3\", \"Topic3\", \"Topic3\", \"Topic3\", \"Topic3\", \"Topic3\", \"Topic3\", \"Topic3\", \"Topic3\", \"Topic3\", \"Topic3\", \"Topic3\", \"Topic3\", \"Topic3\", \"Topic3\", \"Topic3\", \"Topic3\", \"Topic3\", \"Topic3\", \"Topic3\", \"Topic3\", \"Topic3\", \"Topic3\", \"Topic3\", \"Topic4\", \"Topic4\", \"Topic4\", \"Topic4\", \"Topic4\", \"Topic4\", \"Topic4\", \"Topic4\", \"Topic4\", \"Topic4\", \"Topic4\", \"Topic4\", \"Topic4\", \"Topic4\", \"Topic4\", \"Topic4\", \"Topic4\", \"Topic4\", \"Topic4\", \"Topic4\", \"Topic4\", \"Topic4\", \"Topic4\", \"Topic4\", \"Topic4\", \"Topic4\", \"Topic4\", \"Topic4\", \"Topic4\", \"Topic4\", \"Topic4\", \"Topic5\", \"Topic5\", \"Topic5\", \"Topic5\", \"Topic5\", \"Topic5\", \"Topic5\", \"Topic5\", \"Topic5\", \"Topic5\", \"Topic5\", \"Topic5\", \"Topic5\", \"Topic5\", \"Topic5\", \"Topic5\", \"Topic5\", \"Topic5\", \"Topic5\", \"Topic5\", \"Topic5\", \"Topic5\", \"Topic5\", \"Topic5\", \"Topic5\", \"Topic5\", \"Topic5\", \"Topic5\", \"Topic5\", \"Topic5\", \"Topic5\", \"Topic5\", \"Topic5\"], \"logprob\": [30.0, 29.0, 28.0, 27.0, 26.0, 25.0, 24.0, 23.0, 22.0, 21.0, 20.0, 19.0, 18.0, 17.0, 16.0, 15.0, 14.0, 13.0, 12.0, 11.0, 10.0, 9.0, 8.0, 7.0, 6.0, 5.0, 4.0, 3.0, 2.0, 1.0, -1.7026, -1.7038, -4.004, -3.9967, -4.0423, -4.1094, -4.2686, -4.4027, -4.4138, -4.4491, -4.4502, -4.4957, -4.5339, -4.5584, -4.6629, -4.6704, -4.7266, -4.775, -4.7944, -4.737, -4.7956, -4.9179, -4.9322, -4.9332, -4.9518, -5.0002, -5.0172, -5.0474, -5.0942, -5.0889, -2.7281, -2.9879, -3.5512, -3.5453, -3.6456, -3.8349, -3.9608, -4.0186, -4.0255, -4.0462, -4.0891, -4.1117, -4.1332, -4.1962, -4.5363, -4.5688, -4.6324, -4.6672, -4.6861, -4.7175, -4.7118, -4.7369, -4.7823, -4.8435, -4.8451, -4.9458, -4.9969, -5.0497, -5.1003, -5.119, -4.9842, -2.901, -3.377, -3.8122, -3.8823, -3.8814, -4.0495, -4.0644, -4.1551, -4.2686, -4.2707, -4.681, -4.7293, -4.7493, -4.7516, -4.8742, -4.9072, -4.9435, -4.943, -4.9499, -5.0107, -4.9805, -4.9657, -5.1232, -5.0835, -5.1737, -5.2017, -5.223, -5.2182, -5.2395, -5.2462, -4.2008, -5.0337, -5.1443, -5.1114, -3.1737, -3.2268, -3.2698, -3.8333, -3.9427, -3.9512, -3.9786, -3.9731, -4.0939, -4.1064, -4.3844, -4.4113, -4.4292, -4.4617, -4.4958, -4.68, -4.7234, -4.7105, -4.7544, -4.781, -4.7865, -4.8177, -4.8335, -4.8681, -4.8689, -4.25, -4.9665, -4.9842, -4.9661, -5.0009, -4.9921, -2.5505, -3.2317, -3.4314, -3.6461, -3.8968, -3.9199, -4.183, -4.2031, -4.276, -4.3224, -4.4158, -4.4753, -4.5577, -4.6072, -4.6171, -4.6199, -4.6143, -4.655, -4.7414, -4.7829, -4.7971, -4.8283, -5.0115, -5.014, -5.0266, -5.0474, -5.0544, -5.0262, -5.1316, -4.4515, -5.0753, -4.8361, -4.851], \"loglift\": [30.0, 29.0, 28.0, 27.0, 26.0, 25.0, 24.0, 23.0, 22.0, 21.0, 20.0, 19.0, 18.0, 17.0, 16.0, 15.0, 14.0, 13.0, 12.0, 11.0, 10.0, 9.0, 8.0, 7.0, 6.0, 5.0, 4.0, 3.0, 2.0, 1.0, 1.3472, 1.3472, 1.3457, 1.3457, 1.3457, 1.3455, 1.3452, 1.3449, 1.3449, 1.3448, 1.3448, 1.3447, 1.3446, 1.3445, 1.3442, 1.3442, 1.344, 1.3438, 1.3438, 1.3438, 1.3435, 1.3433, 1.3433, 1.3433, 1.3431, 1.343, 1.3428, 1.3428, 1.3426, 1.3425, 1.5902, 1.59, 1.5894, 1.5894, 1.5893, 1.589, 1.5888, 1.5887, 1.5886, 1.5886, 1.5885, 1.5885, 1.5884, 1.5882, 1.5873, 1.5871, 1.5869, 1.5868, 1.5867, 1.5866, 1.5865, 1.5865, 1.5863, 1.5859, 1.5859, 1.5855, 1.5851, 1.5848, 1.5846, 1.5845, 1.5776, 1.631, 1.6305, 1.6299, 1.6298, 1.6296, 1.6294, 1.6294, 1.6291, 1.6288, 1.6287, 1.6273, 1.6271, 1.627, 1.627, 1.6263, 1.6262, 1.626, 1.626, 1.6259, 1.6256, 1.6256, 1.6253, 1.6249, 1.6247, 1.6245, 1.6243, 1.6241, 1.624, 1.624, 1.624, 1.5912, 1.6132, 1.6148, 1.5727, 1.6923, 1.6922, 1.6922, 1.6914, 1.6912, 1.6911, 1.6911, 1.691, 1.6908, 1.6907, 1.69, 1.6899, 1.6898, 1.6897, 1.6896, 1.6889, 1.6887, 1.6886, 1.6885, 1.6884, 1.6884, 1.6882, 1.6881, 1.6879, 1.6879, 1.6879, 1.6874, 1.6873, 1.6873, 1.6872, 1.6862, 1.8522, 1.8516, 1.8513, 1.851, 1.8504, 1.8502, 1.8496, 1.8496, 1.8493, 1.8491, 1.8488, 1.8485, 1.8481, 1.8479, 1.8479, 1.8479, 1.8478, 1.8476, 1.8472, 1.8469, 1.8469, 1.8467, 1.8455, 1.8454, 1.8453, 1.8452, 1.8452, 1.8451, 1.8446, 1.8445, 1.8421, 1.8105, 1.6327]}, \"token.table\": {\"Topic\": [4, 2, 3, 4, 5, 2, 2, 1, 3, 5, 1, 5, 4, 3, 1, 4, 1, 5, 2, 3, 4, 5, 1, 4, 4, 2, 3, 4, 4, 4, 3, 4, 5, 5, 3, 4, 4, 5, 5, 2, 1, 3, 3, 5, 3, 3, 3, 3, 2, 5, 4, 1, 5, 1, 2, 3, 4, 5, 5, 5, 2, 3, 1, 2, 5, 1, 2, 2, 2, 3, 1, 5, 2, 1, 1, 3, 2, 1, 2, 1, 3, 1, 5, 2, 1, 2, 3, 4, 5, 2, 2, 2, 3, 2, 4, 3, 4, 3, 3, 3, 5, 5, 3, 3, 2, 2, 5, 3, 5, 1, 4, 3, 4, 1, 4, 2, 5, 1, 5, 5, 5, 3, 5, 4, 3, 2, 5, 4, 2, 3, 5, 1, 1, 3, 1, 5, 1, 2, 3, 5, 1, 1, 4, 2, 1, 1, 2, 3, 4, 5, 4, 3, 4, 3, 4, 4, 4, 4, 1, 1, 2, 3, 2, 4, 2, 4, 3, 2, 4, 1, 4, 1, 5, 5, 1, 2, 4, 2, 5, 5, 1], \"Freq\": [0.9931768861500618, 0.9977472864725819, 0.9967486247427051, 0.9914371391189193, 0.9972427204416225, 0.9979752430101009, 0.9958657925748766, 0.9961284558032049, 0.98916108971441, 0.9931512827323705, 0.9956566460716495, 0.9967862226601947, 0.9985429135464041, 0.9945612586620043, 0.9998087886141703, 0.994212625558454, 0.997504307270544, 0.9970552907297187, 0.015245907399057635, 0.007622953699528818, 0.022868861098586452, 0.960492166140631, 0.9992229710622434, 0.9985524505926675, 0.9968072084676193, 0.9874820670709953, 0.00700341891539713, 0.00700341891539713, 0.9983851084986342, 0.9964212286997686, 0.003752611062822799, 0.9944419316480417, 0.9947088160463065, 0.9951776482474853, 0.9914039127430809, 0.9987580068004169, 0.9956378479556317, 0.993576309396799, 0.9944994468421243, 0.9983674493817691, 0.9965461458236408, 0.991873274898252, 0.9966514922406163, 0.9985430460549088, 0.994270559966547, 0.9966159135787614, 0.999071052145519, 0.9948714387947353, 0.9944596270276773, 0.996258024914053, 0.9960757020866852, 0.9959507303625778, 0.9932254082803557, 0.007914062279714638, 0.023742186839143916, 0.941773411286042, 0.007914062279714638, 0.015828124559429276, 0.9978857500267438, 0.9915344954860621, 0.9975389873373529, 0.9963302454216728, 0.9983926975305338, 0.9975287307428912, 0.997323232344078, 0.9984231049934996, 0.9966537363097742, 0.9900052997717228, 0.9990544446007451, 0.9976357433546638, 0.9975272335044183, 0.9994314182722233, 0.9976602425384431, 0.9949525089136326, 0.999775936218906, 0.9946439489307064, 0.9929444800908123, 0.9957849712622233, 0.9987546885408689, 0.9972463748427604, 0.9990107376623086, 0.997635589872909, 0.9980351170374655, 0.9924632929848314, 0.006486399047663698, 0.009729598571495548, 0.9599870590542273, 0.012972798095327396, 0.009729598571495548, 0.9935180804066592, 0.9976659691625113, 0.9984988535092972, 0.9987879894776616, 0.9931395864742744, 0.9980636959884207, 0.9943200338359774, 0.9925498318449546, 0.9935408061413942, 0.9982915025239402, 0.9955713749886597, 0.9983877067042252, 0.997566698585228, 0.9977547898577337, 0.9979658517479579, 0.9933765179360714, 0.9986761202542667, 0.9925850660710153, 0.9946491858576761, 0.9957764775215029, 0.9982777212421943, 0.997742487726593, 0.9950163990822424, 0.9987786084826697, 0.9974322741517502, 0.997559473384302, 0.9917584995798856, 0.9902772848559421, 0.995602841040233, 0.9954317220157902, 0.9944148471884654, 0.9893850412925584, 0.9810414928631959, 0.008530795590114746, 0.9950899697830434, 0.9955446350729268, 0.995379906155986, 0.9963933361378369, 0.9969343502491993, 0.9970216270561382, 0.993863255635589, 0.993718973390353, 0.9967929787125269, 0.9941134383024287, 0.9959586425720789, 0.9968610658301702, 0.9927445486914234, 0.007624898726392538, 0.007624898726392538, 0.9836119357046375, 0.007624898726392538, 0.9949746612695679, 0.997866003030564, 0.9979946194610271, 0.9955364375281909, 0.9959092543709528, 0.012953386611248187, 0.11658047950123368, 0.01943007991687228, 0.051813546444992746, 0.8031099698973875, 0.997940809369625, 0.9971339577442014, 0.9933445992507023, 0.9965707482665882, 0.9948581479220938, 0.9995586798739426, 0.9932531525532146, 0.9984310742911581, 0.9982076765366189, 0.9990255359380285, 0.9938939563717056, 0.9942774712597219, 0.9988199168665324, 0.9906172739857266, 0.997696103270098, 0.9956264395056214, 0.9950917355028674, 0.9992196550619267, 0.993903428015002, 0.9973498148481366, 0.9948808658204841, 0.9987199031257612, 0.995966063213989, 0.9991737504348143, 0.9950484743782748, 0.9992609423435371, 0.994974898542875, 0.9941646868533519, 0.9959693817254397, 0.9945482228293258, 0.9987210231477524], \"Term\": [\"abl\", \"access\", \"ad\", \"airflow\", \"alreadi\", \"also\", \"anyon\", \"ask\", \"asset\", \"better\", \"call\", \"cant\", \"challeng\", \"chang\", \"channel\", \"check\", \"code\", \"command\", \"conda\", \"conda\", \"conda\", \"conda\", \"connect\", \"could\", \"creat\", \"creativ\", \"creativ\", \"creativ\", \"data\", \"deploy\", \"detect\", \"detect\", \"didnt\", \"document\", \"done\", \"dont\", \"download\", \"end\", \"environ\", \"error\", \"everyon\", \"except\", \"extract\", \"face\", \"fail\", \"featur\", \"file\", \"find\", \"first\", \"fix\", \"folder\", \"follow\", \"frame\", \"g\", \"g\", \"g\", \"g\", \"g\", \"get\", \"git\", \"go\", \"good\", \"great\", \"group\", \"guy\", \"hello\", \"help\", \"hi\", \"im\", \"imag\", \"import\", \"instal\", \"instanc\", \"issu\", \"join\", \"key\", \"know\", \"last\", \"let\", \"like\", \"line\", \"link\", \"local\", \"locat\", \"logo\", \"logo\", \"logo\", \"logo\", \"logo\", \"look\", \"make\", \"mean\", \"meet\", \"might\", \"model\", \"morn\", \"much\", \"name\", \"need\", \"object\", \"ok\", \"okay\", \"one\", \"open\", \"order\", \"part\", \"path\", \"permiss\", \"pip\", \"plea\", \"point\", \"posit\", \"present\", \"problem\", \"project\", \"provid\", \"python\", \"question\", \"read\", \"realli\", \"recent\", \"refresh\", \"refresh\", \"repo\", \"request\", \"result\", \"return\", \"right\", \"run\", \"say\", \"see\", \"send\", \"session\", \"set\", \"share\", \"solv\", \"ssh\", \"ssh\", \"ssh\", \"ssh\", \"standup\", \"start\", \"still\", \"submiss\", \"submit\", \"sudo\", \"sudo\", \"sudo\", \"sudo\", \"sudo\", \"sure\", \"take\", \"talk\", \"task\", \"text\", \"thank\", \"that\", \"think\", \"time\", \"today\", \"tomorrow\", \"train\", \"tri\", \"tutori\", \"u\", \"understand\", \"updat\", \"use\", \"video\", \"want\", \"way\", \"week\", \"well\", \"work\", \"would\", \"ye\", \"yeah\", \"yesterday\", \"your\", \"\\u2019\", \"\\u2022\"]}, \"R\": 30, \"lambda.step\": 0.01, \"plot.opts\": {\"xlab\": \"PC1\", \"ylab\": \"PC2\"}, \"topic.order\": [3, 5, 2, 4, 1]};\n",
       "\n",
       "function LDAvis_load_lib(url, callback){\n",
       "  var s = document.createElement('script');\n",
       "  s.src = url;\n",
       "  s.async = true;\n",
       "  s.onreadystatechange = s.onload = callback;\n",
       "  s.onerror = function(){console.warn(\"failed to load library \" + url);};\n",
       "  document.getElementsByTagName(\"head\")[0].appendChild(s);\n",
       "}\n",
       "\n",
       "if(typeof(LDAvis) !== \"undefined\"){\n",
       "   // already loaded: just create the visualization\n",
       "   !function(LDAvis){\n",
       "       new LDAvis(\"#\" + \"ldavis_el891615623843617125485175924\", ldavis_el891615623843617125485175924_data);\n",
       "   }(LDAvis);\n",
       "}else if(typeof define === \"function\" && define.amd){\n",
       "   // require.js is available: use it to load d3/LDAvis\n",
       "   require.config({paths: {d3: \"https://d3js.org/d3.v5\"}});\n",
       "   require([\"d3\"], function(d3){\n",
       "      window.d3 = d3;\n",
       "      LDAvis_load_lib(\"https://cdn.jsdelivr.net/gh/bmabey/pyLDAvis@3.4.0/pyLDAvis/js/ldavis.v3.0.0.js\", function(){\n",
       "        new LDAvis(\"#\" + \"ldavis_el891615623843617125485175924\", ldavis_el891615623843617125485175924_data);\n",
       "      });\n",
       "    });\n",
       "}else{\n",
       "    // require.js not available: dynamically load d3 & LDAvis\n",
       "    LDAvis_load_lib(\"https://d3js.org/d3.v5.js\", function(){\n",
       "         LDAvis_load_lib(\"https://cdn.jsdelivr.net/gh/bmabey/pyLDAvis@3.4.0/pyLDAvis/js/ldavis.v3.0.0.js\", function(){\n",
       "                 new LDAvis(\"#\" + \"ldavis_el891615623843617125485175924\", ldavis_el891615623843617125485175924_data);\n",
       "            })\n",
       "         });\n",
       "}\n",
       "</script>"
      ],
      "text/plain": [
       "PreparedData(topic_coordinates=              x         y  topics  cluster       Freq\n",
       "topic                                                \n",
       "2      0.371924 -0.020110       1        1  25.993380\n",
       "4     -0.090644  0.267852       2        1  20.377566\n",
       "1     -0.119150 -0.263536       3        1  19.558450\n",
       "3     -0.070161  0.083032       4        1  18.391670\n",
       "0     -0.091969 -0.067238       5        1  15.678934, topic_info=         Term         Freq        Total Category  logprob  loglift\n",
       "0     channel  4785.000000  4785.000000  Default  30.0000  30.0000\n",
       "1        join  4780.000000  4780.000000  Default  29.0000  29.0000\n",
       "203      work  1237.000000  1237.000000  Default  28.0000  28.0000\n",
       "24        use  1346.000000  1346.000000  Default  27.0000  27.0000\n",
       "5632     file  1087.000000  1087.000000  Default  26.0000  26.0000\n",
       "...       ...          ...          ...      ...      ...      ...\n",
       "5079      fix    93.573706    94.353067   Topic5  -5.1316   1.8446\n",
       "2138    frame   184.716212   186.261848   Topic5  -4.4515   1.8445\n",
       "1393   recent    98.995630   100.062156   Topic5  -5.0753   1.8421\n",
       "7526    conda   125.739371   131.182746   Topic5  -4.8361   1.8105\n",
       "8245     sudo   123.883955   154.399777   Topic5  -4.8510   1.6327\n",
       "\n",
       "[189 rows x 6 columns], token_table=      Topic      Freq       Term\n",
       "term                            \n",
       "351       4  0.993177        abl\n",
       "377       2  0.997747     access\n",
       "2050      3  0.996749         ad\n",
       "3254      4  0.991437    airflow\n",
       "174       5  0.997243    alreadi\n",
       "...     ...       ...        ...\n",
       "429       4  0.994975       yeah\n",
       "1131      2  0.994165  yesterday\n",
       "810       5  0.995969       your\n",
       "906       5  0.994548          ’\n",
       "39        1  0.998721          •\n",
       "\n",
       "[181 rows x 3 columns], R=30, lambda_step=0.01, plot_opts={'xlab': 'PC1', 'ylab': 'PC2'}, topic_order=[3, 5, 2, 4, 1])"
      ]
     },
     "execution_count": 20,
     "metadata": {},
     "output_type": "execute_result"
    }
   ],
   "source": [
    "df = get_all_channels_message()\n",
    "get_top_topics(df)"
   ]
  },
  {
   "cell_type": "code",
   "execution_count": null,
   "metadata": {},
   "outputs": [],
   "source": []
  }
 ],
 "metadata": {
  "kernelspec": {
   "display_name": "Python 3 (ipykernel)",
   "language": "python",
   "name": "python3"
  },
  "language_info": {
   "codemirror_mode": {
    "name": "ipython",
    "version": 3
   },
   "file_extension": ".py",
   "mimetype": "text/x-python",
   "name": "python",
   "nbconvert_exporter": "python",
   "pygments_lexer": "ipython3",
   "version": "3.11.5"
  }
 },
 "nbformat": 4,
 "nbformat_minor": 2
}
